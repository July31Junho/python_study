{
  "cells": [
    {
      "metadata": {
        "_cell_guid": "b1076dfc-b9ad-4769-8c92-a6c4dae69d19",
        "_uuid": "8f2839f25d086af736a60e9eeb907d3b93b6e0e5",
        "trusted": false,
        "collapsed": true
      },
      "cell_type": "code",
      "source": "# This Python 3 environment comes with many helpful analytics libraries installed\n# It is defined by the kaggle/python docker image: https://github.com/kaggle/docker-python\n# For example, here's several helpful packages to load in \n\nimport numpy as np # linear algebra\nimport pandas as pd # data processing, CSV file I/O (e.g. pd.read_csv)\n\n# Input data files are available in the \"../input/\" directory.\n# For example, running this (by clicking run or pressing Shift+Enter) will list the files in the input directory\n\nimport os\nprint(os.listdir(\"../input\"))\n\n# Any results you write to the current directory are saved as output.",
      "execution_count": null,
      "outputs": []
    },
    {
      "metadata": {
        "collapsed": true,
        "_cell_guid": "79c7e3d0-c299-4dcb-8224-4455121ee9b0",
        "_uuid": "d629ff2d2480ee46fbb7e2d37f6b5fab8052498a",
        "trusted": false
      },
      "cell_type": "code",
      "source": "import sys\nimport matplotlib.pyplot as plt\n%matplotlib inline\nimport seaborn as sns\nfrom wordcloud import WordCloud,STOPWORDS\n",
      "execution_count": null,
      "outputs": []
    },
    {
      "metadata": {
        "collapsed": true,
        "_uuid": "a5500062e85670aa1accc8351cce0450e79342d4",
        "_cell_guid": "f0406b84-98c2-44bf-83fa-57d0ba8cbedc",
        "trusted": false
      },
      "cell_type": "code",
      "source": "plt.rcParams['xtick.labelsize'] = 15\nplt.rcParams['ytick.labelsize'] = 15\nplt.rcParams['font.size'] = 15",
      "execution_count": null,
      "outputs": []
    },
    {
      "metadata": {
        "_uuid": "a10b43c962e7af86167348a7548224590d45d18a",
        "_cell_guid": "29ca36f5-5798-41fa-83f9-8de593fb075c",
        "trusted": false,
        "collapsed": true
      },
      "cell_type": "code",
      "source": "data = pd.read_csv('../input/HackerRank-Developer-Survey-2018-Values.csv')",
      "execution_count": null,
      "outputs": []
    },
    {
      "metadata": {
        "_uuid": "1b5c528af960664c3cbe61da2366d8f0ca171119",
        "_cell_guid": "7430efff-6d76-4db5-bedd-261cadd6806a",
        "trusted": false,
        "collapsed": true
      },
      "cell_type": "code",
      "source": "data.head()",
      "execution_count": null,
      "outputs": []
    },
    {
      "metadata": {
        "_uuid": "dca25cdaa8e523de7388f32308f82981b512dcd4",
        "_cell_guid": "abcf2a32-6484-478d-807a-40a8e4163fcb",
        "trusted": false,
        "collapsed": true
      },
      "cell_type": "code",
      "source": "data.isnull().sum(axis=0)",
      "execution_count": null,
      "outputs": []
    },
    {
      "metadata": {
        "_uuid": "91a40948ed7f5b4d0d9cc031e7d5e551b50fa689",
        "_cell_guid": "48295749-8e18-4f5a-877f-af397c2b66bb",
        "trusted": false,
        "collapsed": true
      },
      "cell_type": "code",
      "source": "# Top 10 Countries\n#CountryNumeric\n#CountryNumeric\n#top_countries = data['CountryNumeric'].value_count().head(10)\ntop_countries = data['CountryNumeric'].value_counts().head(10)\nplt.figure(figsize=(18,8))\nplt.tick_params(labelsize=11)\nsns.barplot(top_countries.index, top_countries.values)\nplt.xlabel(\"Country\")\nplt.ylabel(\"Number of respondents\")\nplt.show()",
      "execution_count": null,
      "outputs": []
    },
    {
      "metadata": {
        "_uuid": "5eb26a2158ebdfe43246a00e551a5a248ef598c2",
        "_cell_guid": "9e23b21c-534d-4ccd-a8a6-d614ceefd14b",
        "trusted": false,
        "collapsed": true
      },
      "cell_type": "code",
      "source": "top_countries = data['CountryNumeric'].value_counts().head(10)\nplt.figure(figsize=(8,8))\nplt.pie(top_countries.values, labels = top_countries.index)\nplt.axis('equal')\nplt.show()",
      "execution_count": null,
      "outputs": []
    },
    {
      "metadata": {
        "_cell_guid": "09e04ce4-c9ff-4d9f-8921-2fcf5773c52b",
        "_uuid": "0b2bcdde79af1e48c05e54663a18b44fe9b7dea3"
      },
      "cell_type": "markdown",
      "source": "Most respondents belong to Ghana followed by India and United States"
    },
    {
      "metadata": {
        "_uuid": "438b7ee90728781802b2ebbb55ce6c3e577e5ce1",
        "_cell_guid": "85c5e189-4c7f-44d7-b40c-52816af67bc1",
        "trusted": false,
        "collapsed": true
      },
      "cell_type": "code",
      "source": "# Developers based on gender\ntop_gender = data['q3Gender'].value_counts().head()\nplt.figure(figsize=(12,8))\nsns.barplot(top_gender.index,top_gender.values)\nplt.xlabel(\"Gender\")\nplt.ylabel(\"Number of respondents\")\nplt.show()",
      "execution_count": null,
      "outputs": []
    },
    {
      "metadata": {
        "_uuid": "847f938b6ba6ff5739a988c7d2d19d6e6bb095e6",
        "_cell_guid": "2949f2c3-3907-485d-bff1-37b9ea2640a5",
        "trusted": false,
        "collapsed": true
      },
      "cell_type": "code",
      "source": "top_gender.values",
      "execution_count": null,
      "outputs": []
    },
    {
      "metadata": {
        "_uuid": "6dfbd4805a17c90b45afb3f6b595dab2cad8a29d",
        "_cell_guid": "ace97f7b-1cd4-45bc-ae52-5ec73300014d",
        "trusted": false,
        "collapsed": true
      },
      "cell_type": "code",
      "source": "explode = (0.1,0,0,0) # Explode 1st slice\n#plot\nplt.figure(figsize=(8,8))\nplt.pie(top_gender.values, explode = explode , labels = top_gender.index)\nplt.axis('equal')\nplt.show()",
      "execution_count": null,
      "outputs": []
    },
    {
      "metadata": {
        "_uuid": "02e0a56055e82aaa2dd4306338e353bd660a7604",
        "_cell_guid": "0d07aabb-1e45-4423-a715-ad3fe44220d5"
      },
      "cell_type": "markdown",
      "source": "***Developers based on Age**"
    },
    {
      "metadata": {
        "_uuid": "7b293baed9d2dcd7502b08e3cad3ee306df68efc",
        "_cell_guid": "35e0b7b8-93df-44f2-a332-f47854d87dcf",
        "trusted": false,
        "collapsed": true
      },
      "cell_type": "code",
      "source": "top_age = data['q2Age'].value_counts().head()\nplt.figure(figsize=(12,8))\nsns.barplot(top_age.values,top_age.index)\nplt.xlabel(\"Number of respondents\")\nplt.ylabel(\"Age\")\nplt.show()",
      "execution_count": null,
      "outputs": []
    },
    {
      "metadata": {
        "collapsed": true,
        "_uuid": "6aa3322a587331097cebe75d453a821015a7714a",
        "_cell_guid": "59fe4406-9a38-4f83-8ab6-68e94d4bd764"
      },
      "cell_type": "markdown",
      "source": "Most Developers belong to 18-24 years category"
    },
    {
      "metadata": {
        "collapsed": true,
        "_uuid": "32a3ea0525e876434fcaf100594839904febd23c",
        "_cell_guid": "d8fbd52c-f106-4f60-8b38-7b76eb27b964"
      },
      "cell_type": "markdown",
      "source": "**When they started?**"
    },
    {
      "metadata": {
        "_uuid": "9cc40614a69a0575e2bf977bca9a1c4948ec3a84",
        "_cell_guid": "c8a288f8-b073-4e08-9782-027cf74be78a",
        "trusted": false,
        "collapsed": true
      },
      "cell_type": "code",
      "source": "begin_coding_age = data['q1AgeBeginCoding'].value_counts().head()\nplt.figure(figsize=(12,8))\n#sns.barplot(begin_coding_age.values,begin_coding_age.index)\n          # x , y 축\nsns.barplot(begin_coding_age.index,begin_coding_age.values)\nplt.xlabel(\"Number of respondents\")\nplt.ylabel(\"Age\")\nplt.show()",
      "execution_count": null,
      "outputs": []
    },
    {
      "metadata": {
        "_cell_guid": "6fde5c9e-1aca-49d0-a297-faf35e084318",
        "_uuid": "1d3db0bae4735b849936dba0874c01af7f513016"
      },
      "cell_type": "markdown",
      "source": "****When they started****"
    },
    {
      "metadata": {
        "_uuid": "d623c06bcac9c59a5d152915c16ff6cf3ef2e60f",
        "_cell_guid": "a3579263-3879-4aca-927e-274d96907cee",
        "trusted": false,
        "collapsed": true
      },
      "cell_type": "code",
      "source": "begin_coding_age = data['q1AgeBeginCoding'].value_counts().head()\nplt.figure(figsize = (12,8))\nsns.barplot(begin_coding_age.values,begin_coding_age.index)\nplt.xlabel(\"Number of respondents\")\nplt.ylabel(\"Age\")\nplt.show()",
      "execution_count": null,
      "outputs": []
    },
    {
      "metadata": {
        "collapsed": true,
        "_uuid": "8cfdf1f901864f57ff176a5bbd3a9198c885f58f",
        "_cell_guid": "4f8a0114-1b43-42a8-bd04-e10ab8444698"
      },
      "cell_type": "markdown",
      "source": "**What About their Education**"
    },
    {
      "metadata": {
        "_uuid": "9149e2b97dd01a0609ed528af5ade63253628ca2",
        "_cell_guid": "774e862a-9470-4101-9afe-2c6ec7bcf0c6",
        "trusted": false,
        "collapsed": true
      },
      "cell_type": "code",
      "source": "highest_education = data['q4Education'].value_counts().head()\nplt.figure(figsize=(12,8))\nsns.barplot(highest_education.values,highest_education.index)\nplt.xlabel(\"Number of respondents\")\nplt.ylabel(\"Education\")\nplt.show()",
      "execution_count": null,
      "outputs": []
    },
    {
      "metadata": {
        "_cell_guid": "6b4e1300-9720-4ebf-baec-c24f69efda63",
        "_uuid": "8ddc6b2b5a7970261cc147b3f27f59d01d91badb"
      },
      "cell_type": "markdown",
      "source": "**What kind of degree is most popular among developers**"
    },
    {
      "metadata": {
        "_uuid": "d7b3749c8ae736a5a741d821c7a2a3899c557cc7",
        "_cell_guid": "57da0ec5-6f85-485f-a94e-66755cd6e2ea",
        "trusted": false,
        "collapsed": true
      },
      "cell_type": "code",
      "source": "highest_degree = data['q5DegreeFocus'].value_counts().head()\nplt.figure(figsize=(6,6))\nsns.barplot(highest_degree.values,highest_degree.index)\nplt.xlabel(\"Number of respondents\")\nplt.ylabel(\"Degree\")\nplt.show()",
      "execution_count": null,
      "outputs": []
    },
    {
      "metadata": {
        "_cell_guid": "8ba23616-723b-4fc9-b6f9-056d3d777469",
        "_uuid": "c0d77b62bb0ef78eb3901daba93f94768d3a62f2"
      },
      "cell_type": "markdown",
      "source": "******How many of them learned coding at university or school or bootcamp training or self?******"
    },
    {
      "metadata": {
        "_uuid": "24cb5e212dce6e419504f7da1668a7a53c5a3942",
        "_cell_guid": "5e4bb0a7-f6d3-4fda-a018-51a1293f0e5e",
        "trusted": false,
        "collapsed": true
      },
      "cell_type": "code",
      "source": "learn_code_univ = data['q6LearnCodeUni'].value_counts().head()\nlearn_code_self = data['q6LearnCodeSelfTaught'].value_counts().head()\nlearn_code_train = data['q6LearnCodeAccelTrain'].value_counts().head()\nlearn_code_dontknow = data['q6LearnCodeDontKnowHowToYet'].value_counts().head()\nlearn_code_other = data['q6LearnCodeOther'].value_counts().head()\n\ntemp = pd.DataFrame()\ntemp['counting'] = [learn_code_univ.values[0],learn_code_self.values[0],learn_code_train.values[0],learn_code_dontknow.values[0],learn_code_other.values[0]]\ntemp.index = ['School or university','Self-taught (i.e. books, online)','Accelerated training (i.e. bootcamp)', 'I do not know how to code yet', 'Other']\n\ntemp = temp.sort_values(['counting'],ascending=[0])\nplt.figure(figsize=(6,6))\n\nsns.barplot(temp.counting,temp.index)\nplt.xlabel(\"Number of respondents\")\nplt.ylabel(\"Learning Approach\")\nplt.show()",
      "execution_count": null,
      "outputs": []
    },
    {
      "metadata": {
        "_uuid": "ae8f7fa89756b0eb319c0e29ef7d5273a030d153",
        "_cell_guid": "93b0ff90-91f9-4e38-8596-a944b45fd4bf",
        "trusted": false,
        "collapsed": true
      },
      "cell_type": "code",
      "source": "columns = data.columns[data.columns.str.startswith('q26')]\ndata.columns.str.startswith('q26')\n",
      "execution_count": null,
      "outputs": []
    },
    {
      "metadata": {
        "_uuid": "4b3055249e18541e7e6886362dec40d48552a271",
        "_cell_guid": "476bd2d1-c5aa-4d0b-95cb-debc274c96a8",
        "trusted": false,
        "collapsed": true
      },
      "cell_type": "code",
      "source": "columns = data.columns[data.columns.str.startswith('q26')]\nfor i in columns:\n    #print(data[i]+'   '+i)\n    print(data[i].shape[0])",
      "execution_count": null,
      "outputs": []
    },
    {
      "metadata": {
        "_uuid": "9dba55eee659b47c9d5e1049924b4ebdc17c7905",
        "_cell_guid": "3b60aa53-9a30-480e-b658-f96e1462646f",
        "trusted": false,
        "collapsed": true
      },
      "cell_type": "code",
      "source": "### 데이터를 가공해주는 단계\ncolumns = data.columns[data.columns.str.startswith('q26')] \n# q26으로 시작하는 컬럼명 뽑고\nli = []\ninx = []\nfor i in columns:\n    # 이건 넘기고.\n    if (i == 'q26FrameLearnPadrino2') or (i == 'q26FrameLearnDjango2') or (i == 'q26FrameLearnPyramid2'):\n        continue\n    li.append(data[data[i] == 'Know'].shape[0])\n    x = str(i).replace('q26FrameLearn','')\n    inx.append(x)\n\ntemp = pd.DataFrame()\ntemp['counting'] = li\ntemp.index = inx\n\n## 데이터를 그리는 단계\ntemp = temp.sort_values(['counting'], ascending=[0])\n\nplt.figure(figsize=(20,5))\ntemp_plot = sns.barplot(temp.index,temp.counting)\nfor item in temp_plot.get_xticklabels():\n    item.set_rotation(45)  # 글씨를 기울여서 보여주려고\nplt.xlabel(\"Already known Frameworks\")\nplt.ylabel(\"Number of respondents\")\nplt.show()",
      "execution_count": null,
      "outputs": []
    },
    {
      "metadata": {
        "collapsed": true,
        "_uuid": "3bc877134946c46fd4db15ae7b5316a9f4e4a4b0",
        "_cell_guid": "7d1e8b98-59b9-4f56-a398-f81ecd4891d4",
        "trusted": false
      },
      "cell_type": "code",
      "source": "",
      "execution_count": null,
      "outputs": []
    },
    {
      "metadata": {
        "collapsed": true,
        "_uuid": "2c1bf8567911c5a338ada527c8c493e8baa1c206",
        "_cell_guid": "bf9e3e5c-2418-40c4-85bf-588187f8d062",
        "trusted": false
      },
      "cell_type": "code",
      "source": "",
      "execution_count": null,
      "outputs": []
    },
    {
      "metadata": {
        "collapsed": true,
        "_uuid": "0a5055799f511a458a76a7cab262cdfd461fb714",
        "_cell_guid": "b630ce38-5265-410a-9408-33108dbd17d4",
        "trusted": false
      },
      "cell_type": "code",
      "source": "",
      "execution_count": null,
      "outputs": []
    },
    {
      "metadata": {
        "collapsed": true,
        "_uuid": "598cd3f00d4ef1860882c5b32d05c90cd2bc14ba",
        "_cell_guid": "2bb6d74b-7e66-4c3d-affc-26383bec242a",
        "trusted": false
      },
      "cell_type": "code",
      "source": "",
      "execution_count": null,
      "outputs": []
    },
    {
      "metadata": {
        "collapsed": true,
        "_uuid": "afa2a6c55c81a7f8e60ada6ef3981ed936021e39",
        "_cell_guid": "b8fc00ad-2e8f-4584-b353-3b999aee0413",
        "trusted": false
      },
      "cell_type": "code",
      "source": "",
      "execution_count": null,
      "outputs": []
    },
    {
      "metadata": {
        "collapsed": true,
        "_uuid": "0c889a887a00bfeeb67bfdb6c82c4f63e137f57e",
        "_cell_guid": "1426e32e-88a1-4dbc-b74e-e8d7bb8fe84a",
        "trusted": false
      },
      "cell_type": "code",
      "source": "",
      "execution_count": null,
      "outputs": []
    },
    {
      "metadata": {
        "collapsed": true,
        "_uuid": "0a3a65169b089d4b540c9edbeeb0f5f4acf18e7b",
        "_cell_guid": "3917adea-1e85-4f4e-8530-827dcc4319f0",
        "trusted": false
      },
      "cell_type": "code",
      "source": "",
      "execution_count": null,
      "outputs": []
    },
    {
      "metadata": {
        "collapsed": true,
        "_uuid": "cc333d9107cfd528f33d3e11907e7add4234772c",
        "_cell_guid": "1c5f936c-c9b7-48b5-aa45-f01ff773f7eb",
        "trusted": false
      },
      "cell_type": "code",
      "source": "",
      "execution_count": null,
      "outputs": []
    },
    {
      "metadata": {
        "collapsed": true,
        "_uuid": "878ccb9f36a2d7413572ac7e4dd4def0e48d69fe",
        "_cell_guid": "2ada7c6a-0d17-4a25-8bd0-9062fc6dd10e",
        "trusted": false
      },
      "cell_type": "code",
      "source": "",
      "execution_count": null,
      "outputs": []
    },
    {
      "metadata": {
        "collapsed": true,
        "_uuid": "3df9fdfa48a519a242ec10e104a71b1c5b92f927",
        "_cell_guid": "d0107c98-6007-4f93-944f-cdf283deb804",
        "trusted": false
      },
      "cell_type": "code",
      "source": "",
      "execution_count": null,
      "outputs": []
    }
  ],
  "metadata": {
    "kernelspec": {
      "display_name": "Python 3",
      "language": "python",
      "name": "python3"
    },
    "language_info": {
      "pygments_lexer": "ipython3",
      "mimetype": "text/x-python",
      "codemirror_mode": {
        "version": 3,
        "name": "ipython"
      },
      "version": "3.6.4",
      "file_extension": ".py",
      "name": "python",
      "nbconvert_exporter": "python"
    }
  },
  "nbformat": 4,
  "nbformat_minor": 1
}